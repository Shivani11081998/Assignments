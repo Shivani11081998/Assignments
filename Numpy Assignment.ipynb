{
 "cells": [
  {
   "cell_type": "markdown",
   "metadata": {},
   "source": [
    "Write a function so that the columns of the output matrix are powers of the input\n",
    "vector.\n",
    "The order of the powers is determined by the increasing boolean argument. Specifically, when\n",
    "increasing is False, the i-th output column is the input vector raised element-wise to the power\n",
    "of N - i - 1.\n",
    "\n",
    "HINT: Such a matrix with a geometric progression in each row is named for Alexandre-\n",
    "Theophile Vandermonde.\n"
   ]
  },
  {
   "cell_type": "code",
   "execution_count": 1,
   "metadata": {},
   "outputs": [],
   "source": [
    "import numpy as np"
   ]
  },
  {
   "cell_type": "code",
   "execution_count": 25,
   "metadata": {},
   "outputs": [],
   "source": [
    "def ATP(vector,n,increasing):\n",
    "    if increasing == False:\n",
    "        matrix = np.matrix([x**(n-i-1) for x in vector for i in range(n)]).reshape(vector.size,n) \n",
    "    else:\n",
    "        matrix = np.matrix([x**i for x in vector for i in range(n)]).reshape(vector.size,n) \n",
    "    return matrix   "
   ]
  },
  {
   "cell_type": "code",
   "execution_count": 22,
   "metadata": {},
   "outputs": [],
   "source": [
    "vector = np.array([3,5,8,9,10,12])\n",
    "n = 6"
   ]
  },
  {
   "cell_type": "code",
   "execution_count": 32,
   "metadata": {},
   "outputs": [
    {
     "name": "stdout",
     "output_type": "stream",
     "text": [
      "The matrix is : \n",
      " [[   243     81     27      9      3      1]\n",
      " [  3125    625    125     25      5      1]\n",
      " [ 32768   4096    512     64      8      1]\n",
      " [ 59049   6561    729     81      9      1]\n",
      " [100000  10000   1000    100     10      1]\n",
      " [248832  20736   1728    144     12      1]]\n"
     ]
    }
   ],
   "source": [
    " Dec = ATP(vector,n,False)\n",
    "print('The matrix is : \\n',Dec)"
   ]
  },
  {
   "cell_type": "code",
   "execution_count": 44,
   "metadata": {},
   "outputs": [
    {
     "name": "stdout",
     "output_type": "stream",
     "text": [
      "The matrix is : \n",
      " [[     1      3      9     27     81    243]\n",
      " [     1      5     25    125    625   3125]\n",
      " [     1      8     64    512   4096  32768]\n",
      " [     1      9     81    729   6561  59049]\n",
      " [     1     10    100   1000  10000 100000]\n",
      " [     1     12    144   1728  20736 248832]]\n"
     ]
    }
   ],
   "source": [
    "Inc = ATP(vector,n,True)\n",
    "print('The matrix is : \\n',Asc)"
   ]
  },
  {
   "cell_type": "markdown",
   "metadata": {},
   "source": [
    "Write a function to find moving average in an array over a window:\n",
    "Test it over [3, 5, 7, 2, 8, 10, 11, 65, 72, 81, 99, 100, 150] and window of 3."
   ]
  },
  {
   "cell_type": "code",
   "execution_count": 42,
   "metadata": {},
   "outputs": [],
   "source": [
    "def moving_avg(values,k):\n",
    "    z = 1\n",
    "    ma = np.convolve(values,np.ones(k),'valid')/k\n",
    "    for i in ma:\n",
    "        print('y{0}: {1:.2f}'.format(z,i))\n",
    "        z+=1\n",
    "        "
   ]
  },
  {
   "cell_type": "code",
   "execution_count": 43,
   "metadata": {},
   "outputs": [
    {
     "name": "stdout",
     "output_type": "stream",
     "text": [
      "y1: 5.00\n",
      "y2: 4.67\n",
      "y3: 5.67\n",
      "y4: 6.67\n",
      "y5: 9.67\n",
      "y6: 28.67\n",
      "y7: 49.33\n",
      "y8: 72.67\n",
      "y9: 84.00\n",
      "y10: 93.33\n",
      "y11: 116.33\n"
     ]
    }
   ],
   "source": [
    "values = [3, 5, 7, 2, 8, 10, 11, 65, 72, 81, 99, 100, 150]\n",
    "k = 3\n",
    "moving_avg(values,k)"
   ]
  }
 ],
 "metadata": {
  "kernelspec": {
   "display_name": "Python 3",
   "language": "python",
   "name": "python3"
  },
  "language_info": {
   "codemirror_mode": {
    "name": "ipython",
    "version": 3
   },
   "file_extension": ".py",
   "mimetype": "text/x-python",
   "name": "python",
   "nbconvert_exporter": "python",
   "pygments_lexer": "ipython3",
   "version": "3.7.6"
  }
 },
 "nbformat": 4,
 "nbformat_minor": 4
}
